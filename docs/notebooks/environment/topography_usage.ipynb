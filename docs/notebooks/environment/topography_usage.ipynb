{
 "cells": [
  {
   "attachments": {},
   "cell_type": "markdown",
   "metadata": {},
   "source": [
    "# Topography with RocketPy"
   ]
  },
  {
   "attachments": {},
   "cell_type": "markdown",
   "metadata": {},
   "source": [
    "Along this jupyter notebook we will show how RocketPy interacts with\n",
    "Earth Topography. We mainly will use data provided by the NASADEM Merged DEM Global 1 arc second nc.\n",
    "\n",
    "NASADEM is a digital elevation model based on the Shuttle Radar Topography Mission (SRTM), \n",
    "a collaboration between NASA and the National Geospatial-Intelligence Agency (NGA),\n",
    "as well as participation from the German and Italian space agencies. \n",
    "You can read more about NASADEM at: https://cmr.earthdata.nasa.gov/search/concepts/C1546314436-LPDAAC_ECS.html\n",
    "\n",
    "This is a first step forward stopping consider Earth as a constant plane\n",
    "better results when we are flying next to mountains or valleys"
   ]
  },
  {
   "attachments": {},
   "cell_type": "markdown",
   "metadata": {},
   "source": [
    "## Initialization"
   ]
  },
  {
   "attachments": {},
   "cell_type": "markdown",
   "metadata": {},
   "source": [
    "First of all, we import the Environment Class, which allows to set topographic profiles"
   ]
  },
  {
   "cell_type": "code",
   "execution_count": 1,
   "metadata": {},
   "outputs": [],
   "source": [
    "from rocketpy import Environment"
   ]
  },
  {
   "attachments": {},
   "cell_type": "markdown",
   "metadata": {},
   "source": [
    "For example, let's set an Environment consider a fictional launch at Switzerland.\n",
    "First we need to set the basic information about our Environment object"
   ]
  },
  {
   "cell_type": "code",
   "execution_count": 2,
   "metadata": {},
   "outputs": [],
   "source": [
    "env = Environment(latitude=46.90479, longitude=8.07575, datum=\"WGS84\")"
   ]
  },
  {
   "attachments": {},
   "cell_type": "markdown",
   "metadata": {},
   "source": [
    "Obs.: Notice that the `datum` argument is used only for the converting from geodesic \n",
    "(i.e. lat/lon) to UTM coordinate system."
   ]
  },
  {
   "attachments": {},
   "cell_type": "markdown",
   "metadata": {},
   "source": [
    "## Set topography"
   ]
  },
  {
   "attachments": {},
   "cell_type": "markdown",
   "metadata": {},
   "source": [
    "Now we finally set our topography"
   ]
  },
  {
   "cell_type": "code",
   "execution_count": 3,
   "metadata": {},
   "outputs": [
    {
     "name": "stdout",
     "output_type": "stream",
     "text": [
      "Region covered by the Topographical file: \n",
      "Latitude from 46.000000° to 47.000000°\n",
      "Longitude from 8.000000° to 9.000000°\n"
     ]
    }
   ],
   "source": [
    "env.set_topographic_profile(\n",
    "    type=\"NASADEM_HGT\",\n",
    "    file=\"../../../data/sites/switzerland/NASADEM_NC_n46e008.nc\",\n",
    "    dictionary=\"netCDF4\",\n",
    "    crs=None,\n",
    ")"
   ]
  },
  {
   "attachments": {},
   "cell_type": "markdown",
   "metadata": {},
   "source": [
    "## Find the launch site elevation"
   ]
  },
  {
   "attachments": {},
   "cell_type": "markdown",
   "metadata": {},
   "source": [
    "Once we defined the topographic profile, we can find the launch site elevation\n"
   ]
  },
  {
   "cell_type": "code",
   "execution_count": 4,
   "metadata": {},
   "outputs": [],
   "source": [
    "elevation = env.get_elevation_from_topographic_profile(env.latitude, env.longitude)"
   ]
  },
  {
   "attachments": {},
   "cell_type": "markdown",
   "metadata": {},
   "source": [
    "And finally set the elevation to the Environment object:"
   ]
  },
  {
   "cell_type": "code",
   "execution_count": 5,
   "metadata": {},
   "outputs": [],
   "source": [
    "env.set_elevation(elevation)"
   ]
  },
  {
   "attachments": {},
   "cell_type": "markdown",
   "metadata": {},
   "source": [
    "## Visualize information"
   ]
  },
  {
   "attachments": {},
   "cell_type": "markdown",
   "metadata": {},
   "source": [
    "Now we can see the elevation that we've set, as well as other important attributes \n",
    "of our Environment object. We do that by running the `.info()` method:"
   ]
  },
  {
   "cell_type": "code",
   "execution_count": 6,
   "metadata": {},
   "outputs": [
    {
     "name": "stdout",
     "output_type": "stream",
     "text": [
      "\n",
      "Gravity Details\n",
      "\n",
      "Acceleration of Gravity at Lauch Site: 9.803093916992397 m/s²\n",
      "\n",
      "\n",
      "Launch Site Details\n",
      "\n",
      "Launch Site Latitude: 46.90479°\n",
      "Launch Site Longitude: 8.07575°\n",
      "Reference Datum: WGS84\n",
      "Launch Site UTM coordinates: 886538.30 E    5207102.17 N\n",
      "Launch Site UTM zone: 31T\n",
      "Launch Site Surface Elevation: 1565.0 m\n",
      "\n",
      "\n",
      "Atmospheric Model Details\n",
      "\n",
      "Atmospheric Model Type: standard_atmosphere\n",
      "standard_atmosphere Maximum Height: 80.000 km\n",
      "\n",
      "\n",
      "Surface Atmospheric Conditions\n",
      "\n",
      "Surface Wind Speed: 0.00 m/s\n",
      "Surface Wind Direction: 0.00°\n",
      "Surface Wind Heading: 0.00°\n",
      "Surface Pressure: 838.88 hPa\n",
      "Surface Temperature: 278.00 K\n",
      "Surface Air Density: 1.051 kg/m³\n",
      "Surface Speed of Sound: 333.87 m/s\n",
      "\n",
      "\n",
      "Atmospheric Model Plots\n",
      "\n"
     ]
    },
    {
     "data": {
      "image/png": "[encoded data removed]",
      "text/plain": [
       "<Figure size 648x324 with 4 Axes>"
      ]
     },
     "metadata": {},
     "output_type": "display_data"
    }
   ],
   "source": [
    "env.info()"
   ]
  },
  {
   "attachments": {},
   "cell_type": "markdown",
   "metadata": {},
   "source": [
    "## Calculate Earth Radius at latitude"
   ]
  },
  {
   "attachments": {},
   "cell_type": "markdown",
   "metadata": {},
   "source": [
    "If we want to, we can calculate the Earth radius based on the launch site\n",
    "latitude"
   ]
  },
  {
   "cell_type": "code",
   "execution_count": 7,
   "metadata": {},
   "outputs": [
    {
     "name": "stdout",
     "output_type": "stream",
     "text": [
      "The Earth radius at latitude 46.904790°:  6366.78 km\n"
     ]
    }
   ],
   "source": [
    "e_radius = env.calculate_earth_radius(env.latitude)\n",
    "\n",
    "print(\n",
    "    \"The Earth radius at latitude {:.6f}°:  {:.2f} km\".format(\n",
    "        env.latitude, e_radius / 1000\n",
    "    )\n",
    ")"
   ]
  }
 ],
 "metadata": {
  "kernelspec": {
   "display_name": ".venv",
   "language": "python",
   "name": "python3"
  },
  "language_info": {
   "codemirror_mode": {
    "name": "ipython",
    "version": 3
   },
   "file_extension": ".py",
   "mimetype": "text/x-python",
   "name": "python",
   "nbconvert_exporter": "python",
   "pygments_lexer": "ipython3",
   "version": "3.10.5"
  },
  "vscode": {
   "interpreter": {
    "hash": "e5b7a8cae4f67c92cb11d9e20ddffc69e636d67ed689401b5441ad3ba95f0999"
   }
  }
 },
 "nbformat": 4,
 "nbformat_minor": 2
}
